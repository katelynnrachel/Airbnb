{
 "cells": [
  {
   "cell_type": "code",
   "execution_count": 1,
   "id": "b8c4a052",
   "metadata": {},
   "outputs": [],
   "source": [
    "# Import dependencies\n",
    "%matplotlib inline\n",
    "import matplotlib.pyplot as plt\n",
    "import numpy as np\n",
    "import pandas as pd\n",
    "import seaborn as sns\n",
    "\n",
    "# Initial imports\n",
    "from path import Path\n",
    "from sklearn import tree\n",
    "from sklearn.preprocessing import StandardScaler\n",
    "from sklearn.model_selection import train_test_split\n",
    "from sklearn.metrics import confusion_matrix, accuracy_score, classification_report\n",
    "from sklearn.tree import DecisionTreeRegressor"
   ]
  },
  {
   "cell_type": "code",
   "execution_count": 2,
   "id": "673d537f",
   "metadata": {
    "scrolled": false
   },
   "outputs": [
    {
     "data": {
      "text/html": [
       "<div>\n",
       "<style scoped>\n",
       "    .dataframe tbody tr th:only-of-type {\n",
       "        vertical-align: middle;\n",
       "    }\n",
       "\n",
       "    .dataframe tbody tr th {\n",
       "        vertical-align: top;\n",
       "    }\n",
       "\n",
       "    .dataframe thead th {\n",
       "        text-align: right;\n",
       "    }\n",
       "</style>\n",
       "<table border=\"1\" class=\"dataframe\">\n",
       "  <thead>\n",
       "    <tr style=\"text-align: right;\">\n",
       "      <th></th>\n",
       "      <th>id</th>\n",
       "      <th>listing_url</th>\n",
       "      <th>scrape_id</th>\n",
       "      <th>last_scraped</th>\n",
       "      <th>source</th>\n",
       "      <th>name</th>\n",
       "      <th>description</th>\n",
       "      <th>neighborhood_overview</th>\n",
       "      <th>picture_url</th>\n",
       "      <th>host_id</th>\n",
       "      <th>...</th>\n",
       "      <th>review_scores_communication</th>\n",
       "      <th>review_scores_location</th>\n",
       "      <th>review_scores_value</th>\n",
       "      <th>license</th>\n",
       "      <th>instant_bookable</th>\n",
       "      <th>calculated_host_listings_count</th>\n",
       "      <th>calculated_host_listings_count_entire_homes</th>\n",
       "      <th>calculated_host_listings_count_private_rooms</th>\n",
       "      <th>calculated_host_listings_count_shared_rooms</th>\n",
       "      <th>reviews_per_month</th>\n",
       "    </tr>\n",
       "  </thead>\n",
       "  <tbody>\n",
       "    <tr>\n",
       "      <th>0</th>\n",
       "      <td>183319</td>\n",
       "      <td>https://www.airbnb.com/rooms/183319</td>\n",
       "      <td>20220909140055</td>\n",
       "      <td>2022-09-10</td>\n",
       "      <td>previous scrape</td>\n",
       "      <td>Panoramic Ocean View Venice Beach</td>\n",
       "      <td>Craftsmen style penthouse with ocean view from...</td>\n",
       "      <td>About as close to the beach as you can live in...</td>\n",
       "      <td>https://a0.muscache.com/pictures/1170205/e2596...</td>\n",
       "      <td>867995</td>\n",
       "      <td>...</td>\n",
       "      <td>5.00</td>\n",
       "      <td>5.00</td>\n",
       "      <td>5.00</td>\n",
       "      <td>NaN</td>\n",
       "      <td>f</td>\n",
       "      <td>2</td>\n",
       "      <td>2</td>\n",
       "      <td>0</td>\n",
       "      <td>0</td>\n",
       "      <td>0.02</td>\n",
       "    </tr>\n",
       "    <tr>\n",
       "      <th>1</th>\n",
       "      <td>51307</td>\n",
       "      <td>https://www.airbnb.com/rooms/51307</td>\n",
       "      <td>20220909140055</td>\n",
       "      <td>2022-09-10</td>\n",
       "      <td>city scrape</td>\n",
       "      <td>Spanish Bungalow Guest House LA CA. 30 plus ni...</td>\n",
       "      <td>PRIVATE GUEST HOUSE&lt;br /&gt;&lt;br /&gt;&lt;b&gt;The space&lt;/b...</td>\n",
       "      <td>Local LA  Community , shops and restaurants in...</td>\n",
       "      <td>https://a0.muscache.com/pictures/294658/ac8d6e...</td>\n",
       "      <td>235568</td>\n",
       "      <td>...</td>\n",
       "      <td>4.85</td>\n",
       "      <td>4.95</td>\n",
       "      <td>4.76</td>\n",
       "      <td>NaN</td>\n",
       "      <td>f</td>\n",
       "      <td>2</td>\n",
       "      <td>2</td>\n",
       "      <td>0</td>\n",
       "      <td>0</td>\n",
       "      <td>0.98</td>\n",
       "    </tr>\n",
       "    <tr>\n",
       "      <th>2</th>\n",
       "      <td>184314</td>\n",
       "      <td>https://www.airbnb.com/rooms/184314</td>\n",
       "      <td>20220909140055</td>\n",
       "      <td>2022-09-10</td>\n",
       "      <td>previous scrape</td>\n",
       "      <td>Boho Chic Flat..Steps to Beach!</td>\n",
       "      <td>Bright, airy, quiet 1 bdr located just steps f...</td>\n",
       "      <td>You are in one of the beach locations in Los A...</td>\n",
       "      <td>https://a0.muscache.com/pictures/0bc2f8b7-9378...</td>\n",
       "      <td>884031</td>\n",
       "      <td>...</td>\n",
       "      <td>4.93</td>\n",
       "      <td>4.89</td>\n",
       "      <td>4.85</td>\n",
       "      <td>NaN</td>\n",
       "      <td>t</td>\n",
       "      <td>1</td>\n",
       "      <td>1</td>\n",
       "      <td>0</td>\n",
       "      <td>0</td>\n",
       "      <td>0.22</td>\n",
       "    </tr>\n",
       "  </tbody>\n",
       "</table>\n",
       "<p>3 rows × 75 columns</p>\n",
       "</div>"
      ],
      "text/plain": [
       "       id                          listing_url       scrape_id last_scraped  \\\n",
       "0  183319  https://www.airbnb.com/rooms/183319  20220909140055   2022-09-10   \n",
       "1   51307   https://www.airbnb.com/rooms/51307  20220909140055   2022-09-10   \n",
       "2  184314  https://www.airbnb.com/rooms/184314  20220909140055   2022-09-10   \n",
       "\n",
       "            source                                               name  \\\n",
       "0  previous scrape                  Panoramic Ocean View Venice Beach   \n",
       "1      city scrape  Spanish Bungalow Guest House LA CA. 30 plus ni...   \n",
       "2  previous scrape                    Boho Chic Flat..Steps to Beach!   \n",
       "\n",
       "                                         description  \\\n",
       "0  Craftsmen style penthouse with ocean view from...   \n",
       "1  PRIVATE GUEST HOUSE<br /><br /><b>The space</b...   \n",
       "2  Bright, airy, quiet 1 bdr located just steps f...   \n",
       "\n",
       "                               neighborhood_overview  \\\n",
       "0  About as close to the beach as you can live in...   \n",
       "1  Local LA  Community , shops and restaurants in...   \n",
       "2  You are in one of the beach locations in Los A...   \n",
       "\n",
       "                                         picture_url  host_id  ...  \\\n",
       "0  https://a0.muscache.com/pictures/1170205/e2596...   867995  ...   \n",
       "1  https://a0.muscache.com/pictures/294658/ac8d6e...   235568  ...   \n",
       "2  https://a0.muscache.com/pictures/0bc2f8b7-9378...   884031  ...   \n",
       "\n",
       "  review_scores_communication review_scores_location review_scores_value  \\\n",
       "0                        5.00                   5.00                5.00   \n",
       "1                        4.85                   4.95                4.76   \n",
       "2                        4.93                   4.89                4.85   \n",
       "\n",
       "  license instant_bookable calculated_host_listings_count  \\\n",
       "0     NaN                f                              2   \n",
       "1     NaN                f                              2   \n",
       "2     NaN                t                              1   \n",
       "\n",
       "  calculated_host_listings_count_entire_homes  \\\n",
       "0                                           2   \n",
       "1                                           2   \n",
       "2                                           1   \n",
       "\n",
       "  calculated_host_listings_count_private_rooms  \\\n",
       "0                                            0   \n",
       "1                                            0   \n",
       "2                                            0   \n",
       "\n",
       "  calculated_host_listings_count_shared_rooms reviews_per_month  \n",
       "0                                           0              0.02  \n",
       "1                                           0              0.98  \n",
       "2                                           0              0.22  \n",
       "\n",
       "[3 rows x 75 columns]"
      ]
     },
     "execution_count": 2,
     "metadata": {},
     "output_type": "execute_result"
    }
   ],
   "source": [
    "df = pd.read_csv(\"listings.csv\")\n",
    "df.head(3)"
   ]
  },
  {
   "cell_type": "code",
   "execution_count": 3,
   "id": "f14c010f",
   "metadata": {},
   "outputs": [],
   "source": [
    "# Extract prices from df into priceDF\n",
    "priceDF = df['price']\n",
    "prices=[]\n",
    "\n",
    "# Convert prices from df into float values + append \n",
    "for p in priceDF:\n",
    "    p = float(p[1:].replace(',',''))\n",
    "    prices.append(p)\n",
    "    \n",
    "# Replace the price column in the original df with the new prices\n",
    "df['price'] = prices"
   ]
  },
  {
   "cell_type": "code",
   "execution_count": 4,
   "id": "01a13ee8",
   "metadata": {},
   "outputs": [],
   "source": [
    "#Convert NaN to 0\n",
    "df.fillna(0, inplace=True)"
   ]
  },
  {
   "cell_type": "code",
   "execution_count": 5,
   "id": "9dbe6747",
   "metadata": {},
   "outputs": [
    {
     "data": {
      "text/plain": [
       "count    45815.000000\n",
       "mean        17.874081\n",
       "std         30.333167\n",
       "min          1.000000\n",
       "25%          2.000000\n",
       "50%          7.000000\n",
       "75%         30.000000\n",
       "max       1124.000000\n",
       "Name: minimum_nights, dtype: float64"
      ]
     },
     "execution_count": 5,
     "metadata": {},
     "output_type": "execute_result"
    }
   ],
   "source": [
    "df[\"minimum_nights\"].describe()"
   ]
  },
  {
   "cell_type": "code",
   "execution_count": 6,
   "id": "7adb1998",
   "metadata": {},
   "outputs": [
    {
     "data": {
      "text/plain": [
       "count    45815.000000\n",
       "mean       579.480236\n",
       "std        662.378887\n",
       "min          1.000000\n",
       "25%         90.000000\n",
       "50%        365.000000\n",
       "75%       1125.000000\n",
       "max      99999.000000\n",
       "Name: maximum_nights, dtype: float64"
      ]
     },
     "execution_count": 6,
     "metadata": {},
     "output_type": "execute_result"
    }
   ],
   "source": [
    "df[\"maximum_nights\"].describe()"
   ]
  },
  {
   "cell_type": "code",
   "execution_count": 7,
   "id": "e4997318",
   "metadata": {},
   "outputs": [
    {
     "data": {
      "text/plain": [
       "count    45815.000000\n",
       "mean       290.189040\n",
       "std        720.187799\n",
       "min          0.000000\n",
       "25%         90.000000\n",
       "50%        150.000000\n",
       "75%        274.000000\n",
       "max      30000.000000\n",
       "Name: price, dtype: float64"
      ]
     },
     "execution_count": 7,
     "metadata": {},
     "output_type": "execute_result"
    }
   ],
   "source": [
    "df[\"price\"].describe()"
   ]
  },
  {
   "cell_type": "code",
   "execution_count": null,
   "id": "68e99350",
   "metadata": {},
   "outputs": [],
   "source": []
  }
 ],
 "metadata": {
  "kernelspec": {
   "display_name": "PythonData",
   "language": "python",
   "name": "pythondata"
  },
  "language_info": {
   "codemirror_mode": {
    "name": "ipython",
    "version": 3
   },
   "file_extension": ".py",
   "mimetype": "text/x-python",
   "name": "python",
   "nbconvert_exporter": "python",
   "pygments_lexer": "ipython3",
   "version": "3.9.12"
  }
 },
 "nbformat": 4,
 "nbformat_minor": 5
}
