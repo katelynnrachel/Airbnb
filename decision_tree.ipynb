{
 "cells": [
  {
   "cell_type": "code",
   "execution_count": 1,
   "id": "b8c4a052",
   "metadata": {},
   "outputs": [],
   "source": [
    "# Import dependencies\n",
    "%matplotlib inline\n",
    "import matplotlib.pyplot as plt\n",
    "import numpy as np\n",
    "import pandas as pd\n",
    "import seaborn as sns\n",
    "\n",
    "# Initial imports\n",
    "from path import Path\n",
    "from sklearn import tree\n",
    "from sklearn.preprocessing import StandardScaler\n",
    "from sklearn.model_selection import train_test_split\n",
    "from sklearn.metrics import confusion_matrix, accuracy_score, classification_report\n",
    "from sklearn.tree import DecisionTreeRegressor"
   ]
  },
  {
   "cell_type": "code",
   "execution_count": 2,
   "id": "673d537f",
   "metadata": {
    "scrolled": false
   },
   "outputs": [
    {
     "data": {
      "text/html": [
       "<div>\n",
       "<style scoped>\n",
       "    .dataframe tbody tr th:only-of-type {\n",
       "        vertical-align: middle;\n",
       "    }\n",
       "\n",
       "    .dataframe tbody tr th {\n",
       "        vertical-align: top;\n",
       "    }\n",
       "\n",
       "    .dataframe thead th {\n",
       "        text-align: right;\n",
       "    }\n",
       "</style>\n",
       "<table border=\"1\" class=\"dataframe\">\n",
       "  <thead>\n",
       "    <tr style=\"text-align: right;\">\n",
       "      <th></th>\n",
       "      <th>id</th>\n",
       "      <th>listing_url</th>\n",
       "      <th>scrape_id</th>\n",
       "      <th>last_scraped</th>\n",
       "      <th>source</th>\n",
       "      <th>name</th>\n",
       "      <th>description</th>\n",
       "      <th>neighborhood_overview</th>\n",
       "      <th>picture_url</th>\n",
       "      <th>host_id</th>\n",
       "      <th>...</th>\n",
       "      <th>review_scores_communication</th>\n",
       "      <th>review_scores_location</th>\n",
       "      <th>review_scores_value</th>\n",
       "      <th>license</th>\n",
       "      <th>instant_bookable</th>\n",
       "      <th>calculated_host_listings_count</th>\n",
       "      <th>calculated_host_listings_count_entire_homes</th>\n",
       "      <th>calculated_host_listings_count_private_rooms</th>\n",
       "      <th>calculated_host_listings_count_shared_rooms</th>\n",
       "      <th>reviews_per_month</th>\n",
       "    </tr>\n",
       "  </thead>\n",
       "  <tbody>\n",
       "    <tr>\n",
       "      <th>0</th>\n",
       "      <td>183319</td>\n",
       "      <td>https://www.airbnb.com/rooms/183319</td>\n",
       "      <td>20220909140055</td>\n",
       "      <td>2022-09-10</td>\n",
       "      <td>previous scrape</td>\n",
       "      <td>Panoramic Ocean View Venice Beach</td>\n",
       "      <td>Craftsmen style penthouse with ocean view from...</td>\n",
       "      <td>About as close to the beach as you can live in...</td>\n",
       "      <td>https://a0.muscache.com/pictures/1170205/e2596...</td>\n",
       "      <td>867995</td>\n",
       "      <td>...</td>\n",
       "      <td>5.00</td>\n",
       "      <td>5.00</td>\n",
       "      <td>5.00</td>\n",
       "      <td>NaN</td>\n",
       "      <td>f</td>\n",
       "      <td>2</td>\n",
       "      <td>2</td>\n",
       "      <td>0</td>\n",
       "      <td>0</td>\n",
       "      <td>0.02</td>\n",
       "    </tr>\n",
       "    <tr>\n",
       "      <th>1</th>\n",
       "      <td>51307</td>\n",
       "      <td>https://www.airbnb.com/rooms/51307</td>\n",
       "      <td>20220909140055</td>\n",
       "      <td>2022-09-10</td>\n",
       "      <td>city scrape</td>\n",
       "      <td>Spanish Bungalow Guest House LA CA. 30 plus ni...</td>\n",
       "      <td>PRIVATE GUEST HOUSE&lt;br /&gt;&lt;br /&gt;&lt;b&gt;The space&lt;/b...</td>\n",
       "      <td>Local LA  Community , shops and restaurants in...</td>\n",
       "      <td>https://a0.muscache.com/pictures/294658/ac8d6e...</td>\n",
       "      <td>235568</td>\n",
       "      <td>...</td>\n",
       "      <td>4.85</td>\n",
       "      <td>4.95</td>\n",
       "      <td>4.76</td>\n",
       "      <td>NaN</td>\n",
       "      <td>f</td>\n",
       "      <td>2</td>\n",
       "      <td>2</td>\n",
       "      <td>0</td>\n",
       "      <td>0</td>\n",
       "      <td>0.98</td>\n",
       "    </tr>\n",
       "    <tr>\n",
       "      <th>2</th>\n",
       "      <td>184314</td>\n",
       "      <td>https://www.airbnb.com/rooms/184314</td>\n",
       "      <td>20220909140055</td>\n",
       "      <td>2022-09-10</td>\n",
       "      <td>previous scrape</td>\n",
       "      <td>Boho Chic Flat..Steps to Beach!</td>\n",
       "      <td>Bright, airy, quiet 1 bdr located just steps f...</td>\n",
       "      <td>You are in one of the beach locations in Los A...</td>\n",
       "      <td>https://a0.muscache.com/pictures/0bc2f8b7-9378...</td>\n",
       "      <td>884031</td>\n",
       "      <td>...</td>\n",
       "      <td>4.93</td>\n",
       "      <td>4.89</td>\n",
       "      <td>4.85</td>\n",
       "      <td>NaN</td>\n",
       "      <td>t</td>\n",
       "      <td>1</td>\n",
       "      <td>1</td>\n",
       "      <td>0</td>\n",
       "      <td>0</td>\n",
       "      <td>0.22</td>\n",
       "    </tr>\n",
       "  </tbody>\n",
       "</table>\n",
       "<p>3 rows × 75 columns</p>\n",
       "</div>"
      ],
      "text/plain": [
       "       id                          listing_url       scrape_id last_scraped  \\\n",
       "0  183319  https://www.airbnb.com/rooms/183319  20220909140055   2022-09-10   \n",
       "1   51307   https://www.airbnb.com/rooms/51307  20220909140055   2022-09-10   \n",
       "2  184314  https://www.airbnb.com/rooms/184314  20220909140055   2022-09-10   \n",
       "\n",
       "            source                                               name  \\\n",
       "0  previous scrape                  Panoramic Ocean View Venice Beach   \n",
       "1      city scrape  Spanish Bungalow Guest House LA CA. 30 plus ni...   \n",
       "2  previous scrape                    Boho Chic Flat..Steps to Beach!   \n",
       "\n",
       "                                         description  \\\n",
       "0  Craftsmen style penthouse with ocean view from...   \n",
       "1  PRIVATE GUEST HOUSE<br /><br /><b>The space</b...   \n",
       "2  Bright, airy, quiet 1 bdr located just steps f...   \n",
       "\n",
       "                               neighborhood_overview  \\\n",
       "0  About as close to the beach as you can live in...   \n",
       "1  Local LA  Community , shops and restaurants in...   \n",
       "2  You are in one of the beach locations in Los A...   \n",
       "\n",
       "                                         picture_url  host_id  ...  \\\n",
       "0  https://a0.muscache.com/pictures/1170205/e2596...   867995  ...   \n",
       "1  https://a0.muscache.com/pictures/294658/ac8d6e...   235568  ...   \n",
       "2  https://a0.muscache.com/pictures/0bc2f8b7-9378...   884031  ...   \n",
       "\n",
       "  review_scores_communication review_scores_location review_scores_value  \\\n",
       "0                        5.00                   5.00                5.00   \n",
       "1                        4.85                   4.95                4.76   \n",
       "2                        4.93                   4.89                4.85   \n",
       "\n",
       "  license instant_bookable calculated_host_listings_count  \\\n",
       "0     NaN                f                              2   \n",
       "1     NaN                f                              2   \n",
       "2     NaN                t                              1   \n",
       "\n",
       "  calculated_host_listings_count_entire_homes  \\\n",
       "0                                           2   \n",
       "1                                           2   \n",
       "2                                           1   \n",
       "\n",
       "  calculated_host_listings_count_private_rooms  \\\n",
       "0                                            0   \n",
       "1                                            0   \n",
       "2                                            0   \n",
       "\n",
       "  calculated_host_listings_count_shared_rooms reviews_per_month  \n",
       "0                                           0              0.02  \n",
       "1                                           0              0.98  \n",
       "2                                           0              0.22  \n",
       "\n",
       "[3 rows x 75 columns]"
      ]
     },
     "execution_count": 2,
     "metadata": {},
     "output_type": "execute_result"
    }
   ],
   "source": [
    "df = pd.read_csv(\"listings.csv\")\n",
    "df.head(3)"
   ]
  },
  {
   "cell_type": "code",
   "execution_count": 3,
   "id": "f14c010f",
   "metadata": {},
   "outputs": [],
   "source": [
    "# Extract prices from listingDF into priceDF\n",
    "priceDF = df['price']\n",
    "prices=[]\n",
    "\n",
    "# Convert prices from listingDF into float values and append it in prices list\n",
    "for p in priceDF:\n",
    "    p = float(p[1:].replace(',',''))\n",
    "    prices.append(p)\n",
    "    \n",
    "# Replace the price column in the original listingDF with the new prices\n",
    "df['price'] = prices"
   ]
  },
  {
   "cell_type": "code",
   "execution_count": 4,
   "id": "01a13ee8",
   "metadata": {},
   "outputs": [],
   "source": [
    "#Convert NaN to 0\n",
    "df.fillna(0, inplace=True)"
   ]
  },
  {
   "cell_type": "code",
   "execution_count": 5,
   "id": "23e3f201",
   "metadata": {
    "scrolled": true
   },
   "outputs": [
    {
     "data": {
      "text/html": [
       "<div>\n",
       "<style scoped>\n",
       "    .dataframe tbody tr th:only-of-type {\n",
       "        vertical-align: middle;\n",
       "    }\n",
       "\n",
       "    .dataframe tbody tr th {\n",
       "        vertical-align: top;\n",
       "    }\n",
       "\n",
       "    .dataframe thead th {\n",
       "        text-align: right;\n",
       "    }\n",
       "</style>\n",
       "<table border=\"1\" class=\"dataframe\">\n",
       "  <thead>\n",
       "    <tr style=\"text-align: right;\">\n",
       "      <th></th>\n",
       "      <th>latitude</th>\n",
       "      <th>longitude</th>\n",
       "      <th>accommodates</th>\n",
       "      <th>bedrooms</th>\n",
       "      <th>beds</th>\n",
       "      <th>minimum_nights</th>\n",
       "      <th>maximum_nights</th>\n",
       "      <th>number_of_reviews</th>\n",
       "      <th>review_scores_rating</th>\n",
       "    </tr>\n",
       "  </thead>\n",
       "  <tbody>\n",
       "    <tr>\n",
       "      <th>0</th>\n",
       "      <td>33.99211</td>\n",
       "      <td>-118.47600</td>\n",
       "      <td>2</td>\n",
       "      <td>2.0</td>\n",
       "      <td>2.0</td>\n",
       "      <td>30</td>\n",
       "      <td>90</td>\n",
       "      <td>3</td>\n",
       "      <td>5.00</td>\n",
       "    </tr>\n",
       "    <tr>\n",
       "      <th>1</th>\n",
       "      <td>34.12206</td>\n",
       "      <td>-118.26783</td>\n",
       "      <td>2</td>\n",
       "      <td>1.0</td>\n",
       "      <td>1.0</td>\n",
       "      <td>30</td>\n",
       "      <td>365</td>\n",
       "      <td>138</td>\n",
       "      <td>4.64</td>\n",
       "    </tr>\n",
       "    <tr>\n",
       "      <th>2</th>\n",
       "      <td>33.97487</td>\n",
       "      <td>-118.46312</td>\n",
       "      <td>1</td>\n",
       "      <td>1.0</td>\n",
       "      <td>1.0</td>\n",
       "      <td>30</td>\n",
       "      <td>30</td>\n",
       "      <td>30</td>\n",
       "      <td>4.88</td>\n",
       "    </tr>\n",
       "    <tr>\n",
       "      <th>3</th>\n",
       "      <td>34.00389</td>\n",
       "      <td>-118.44126</td>\n",
       "      <td>2</td>\n",
       "      <td>0.0</td>\n",
       "      <td>1.0</td>\n",
       "      <td>3</td>\n",
       "      <td>365</td>\n",
       "      <td>378</td>\n",
       "      <td>4.73</td>\n",
       "    </tr>\n",
       "    <tr>\n",
       "      <th>4</th>\n",
       "      <td>33.98301</td>\n",
       "      <td>-118.38607</td>\n",
       "      <td>6</td>\n",
       "      <td>2.0</td>\n",
       "      <td>3.0</td>\n",
       "      <td>30</td>\n",
       "      <td>730</td>\n",
       "      <td>2</td>\n",
       "      <td>4.00</td>\n",
       "    </tr>\n",
       "  </tbody>\n",
       "</table>\n",
       "</div>"
      ],
      "text/plain": [
       "   latitude  longitude  accommodates  bedrooms  beds  minimum_nights  \\\n",
       "0  33.99211 -118.47600             2       2.0   2.0              30   \n",
       "1  34.12206 -118.26783             2       1.0   1.0              30   \n",
       "2  33.97487 -118.46312             1       1.0   1.0              30   \n",
       "3  34.00389 -118.44126             2       0.0   1.0               3   \n",
       "4  33.98301 -118.38607             6       2.0   3.0              30   \n",
       "\n",
       "   maximum_nights  number_of_reviews  review_scores_rating  \n",
       "0              90                  3                  5.00  \n",
       "1             365                138                  4.64  \n",
       "2              30                 30                  4.88  \n",
       "3             365                378                  4.73  \n",
       "4             730                  2                  4.00  "
      ]
     },
     "execution_count": 5,
     "metadata": {},
     "output_type": "execute_result"
    }
   ],
   "source": [
    "# separating dataset\n",
    "airbnb_features = [\"latitude\", \"longitude\", \"accommodates\", \"bedrooms\", \"beds\", \"minimum_nights\", \"maximum_nights\", \"number_of_reviews\", \"review_scores_rating\", ]\n",
    "\n",
    "\n",
    "y = df.price \n",
    "X = df[airbnb_features]\n",
    "\n",
    "X.head()"
   ]
  },
  {
   "cell_type": "code",
   "execution_count": 6,
   "id": "e323eefb",
   "metadata": {
    "scrolled": true
   },
   "outputs": [
    {
     "data": {
      "text/plain": [
       "0    152.0\n",
       "1     75.0\n",
       "2    125.0\n",
       "3    189.0\n",
       "4    115.0\n",
       "Name: price, dtype: float64"
      ]
     },
     "execution_count": 6,
     "metadata": {},
     "output_type": "execute_result"
    }
   ],
   "source": [
    "y.head()"
   ]
  },
  {
   "cell_type": "code",
   "execution_count": 7,
   "id": "ef55117d",
   "metadata": {},
   "outputs": [],
   "source": [
    "X_train, X_test, y_train, y_test = train_test_split(X, y, random_state=78)"
   ]
  },
  {
   "cell_type": "code",
   "execution_count": 8,
   "id": "0e271e19",
   "metadata": {},
   "outputs": [
    {
     "name": "stdout",
     "output_type": "stream",
     "text": [
      "(34361, 9)\n",
      "(11454, 9)\n",
      "(34361,)\n",
      "(11454,)\n"
     ]
    }
   ],
   "source": [
    "# Determine the shape of our training and testing sets.\n",
    "print(X_train.shape)\n",
    "print(X_test.shape)\n",
    "print(y_train.shape)\n",
    "print(y_test.shape)"
   ]
  },
  {
   "cell_type": "code",
   "execution_count": 9,
   "id": "cf410d7c",
   "metadata": {},
   "outputs": [],
   "source": [
    "# Creating a StandardScaler instance.\n",
    "scaler = StandardScaler()\n",
    "# Fitting the Standard Scaler with the training data.\n",
    "X_scaler = scaler.fit(X_train)\n",
    "\n",
    "# Scaling the data.\n",
    "X_train_scaled = X_scaler.transform(X_train)\n",
    "X_test_scaled = X_scaler.transform(X_test)"
   ]
  },
  {
   "cell_type": "code",
   "execution_count": 10,
   "id": "614bbe88",
   "metadata": {},
   "outputs": [],
   "source": [
    "# Creating the decision tree classifier instance.\n",
    "model = tree.DecisionTreeRegressor()\n",
    "# Fitting the model.\n",
    "model = model.fit(X_train_scaled, y_train)"
   ]
  },
  {
   "cell_type": "code",
   "execution_count": 11,
   "id": "7a06956d",
   "metadata": {},
   "outputs": [
    {
     "data": {
      "text/plain": [
       "array([ 79., 352., 520., ..., 150., 278., 106.])"
      ]
     },
     "execution_count": 11,
     "metadata": {},
     "output_type": "execute_result"
    }
   ],
   "source": [
    "# Making predictions using the testing data.\n",
    "predictions = model.predict(X_test_scaled)\n",
    "predictions"
   ]
  },
  {
   "cell_type": "code",
   "execution_count": 12,
   "id": "cd9bc883",
   "metadata": {},
   "outputs": [
    {
     "ename": "NameError",
     "evalue": "name 'regressor' is not defined",
     "output_type": "error",
     "traceback": [
      "\u001b[0;31m---------------------------------------------------------------------------\u001b[0m",
      "\u001b[0;31mNameError\u001b[0m                                 Traceback (most recent call last)",
      "\u001b[0;32m/var/folders/0h/plmwrz2s58g3ts823fykx_q40000gn/T/ipykernel_66401/2238269792.py\u001b[0m in \u001b[0;36m<module>\u001b[0;34m\u001b[0m\n\u001b[1;32m      4\u001b[0m \u001b[0;34m\u001b[0m\u001b[0m\n\u001b[1;32m      5\u001b[0m \u001b[0;31m#score = cross_val_score(regressor, X_test, y_test)\u001b[0m\u001b[0;34m\u001b[0m\u001b[0;34m\u001b[0m\u001b[0m\n\u001b[0;32m----> 6\u001b[0;31m \u001b[0mscore\u001b[0m \u001b[0;34m=\u001b[0m \u001b[0mregressor\u001b[0m\u001b[0;34m.\u001b[0m\u001b[0mscore\u001b[0m\u001b[0;34m(\u001b[0m\u001b[0mX_test\u001b[0m\u001b[0;34m,\u001b[0m \u001b[0my_test\u001b[0m\u001b[0;34m)\u001b[0m\u001b[0;34m\u001b[0m\u001b[0;34m\u001b[0m\u001b[0m\n\u001b[0m\u001b[1;32m      7\u001b[0m \u001b[0;34m\u001b[0m\u001b[0m\n\u001b[1;32m      8\u001b[0m \u001b[0mprint\u001b[0m\u001b[0;34m(\u001b[0m\u001b[0mscore\u001b[0m\u001b[0;34m)\u001b[0m\u001b[0;34m\u001b[0m\u001b[0;34m\u001b[0m\u001b[0m\n",
      "\u001b[0;31mNameError\u001b[0m: name 'regressor' is not defined"
     ]
    }
   ],
   "source": [
    "#Report the score of the prediction using the testing set\n",
    "from sklearn.model_selection import cross_val_score\n",
    "\n",
    "\n",
    "#score = cross_val_score(regressor, X_test, y_test)\n",
    "score = regressor.score(X_test, y_test)\n",
    "\n",
    "print(score)"
   ]
  },
  {
   "cell_type": "code",
   "execution_count": null,
   "id": "d16d3eb0",
   "metadata": {},
   "outputs": [],
   "source": [
    "# this function takes both the training and validation sets to compute the MAE for a Decision Tree\n",
    "def compute_mae(train_X, train_Y, validation_X, validation_Y, max_leaf_nodes):\n",
    "    trees_model = DecisionTreeRegressor(max_leaf_nodes = max_leaf_nodes, random_state = 81)\n",
    "    trees_model.fit(train_X, train_Y)\n",
    "    validation_predictions = trees_model.predict(validation_X)\n",
    "    error = mean_absolute_error(validation_Y, validation_predictions)\n",
    "    \n",
    "    return(error)\n",
    "\n",
    "def get_best_tree_size(train_X, train_Y, validation_X, validation_Y, verbose = False):\n",
    "    # candidates to iterate on finding a better tree depth\n",
    "    candidate_max_leaf_nodes = [5, 10, 20, 30, 50, 100, 250, 500]\n",
    "\n",
    "    # initialization\n",
    "    minimum_error = None\n",
    "    best_tree_size = 5\n",
    "\n",
    "    # loop to find the minimal error value\n",
    "    for max_leaf_nodes in candidate_max_leaf_nodes:\n",
    "        current_error = compute_mae(train_X, train_Y, validation_X, validation_Y, max_leaf_nodes)\n",
    "        verbose and print(\"(Size: {}, MAE: {})\".format(max_leaf_nodes, current_error))\n",
    "\n",
    "        if(minimum_error == None or current_error < minimum_error):\n",
    "            minimum_error = current_error\n",
    "            best_tree_size = max_leaf_nodes\n",
    "\n",
    "    return(best_tree_size)\n",
    "\n",
    "best_tree_size = get_best_tree_size(train_X, train_Y, validation_X, validation_Y, True)\n",
    "best_tree_size"
   ]
  },
  {
   "cell_type": "code",
   "execution_count": null,
   "id": "8c85ec2a",
   "metadata": {},
   "outputs": [],
   "source": [
    "# create the model\n",
    "lisbon_airbnb_model = DecisionTreeRegressor(max_leaf_nodes = best_tree_size, random_state = 81)\n",
    "lisbon_airbnb_model.fit(train_X, train_Y)\n",
    "\n",
    "# generate the predictions for the validation set\n",
    "validation_predictions = lisbon_airbnb_model.predict(validation_X)\n",
    "validation_prediction_errors = mean_absolute_error(validation_Y, validation_predictions)\n",
    "\n",
    "validation_prediction_errors"
   ]
  },
  {
   "cell_type": "code",
   "execution_count": null,
   "id": "b3bb6b8b",
   "metadata": {},
   "outputs": [],
   "source": [
    "# separating dataset, adding categorical\n",
    "airbnb_features_ext = [\"room_type\", \"latitude\", \"longitude\", \"accommodates\", \"bedrooms\", \"beds\", \"minimum_nights\", \"maximum_nights\", \"number_of_reviews\", \"review_scores_rating\", ]\n",
    "\n",
    "X = df[airbnb_features_ext]\n",
    "X.head()"
   ]
  },
  {
   "cell_type": "code",
   "execution_count": null,
   "id": "a0bdd0d4",
   "metadata": {},
   "outputs": [],
   "source": [
    "#extracting categorical\n",
    "categorical = (X.dtypes == 'object')\n",
    "categorial_columns = list(categorical[categorical].index)\n",
    "\n",
    "categorial_columns"
   ]
  },
  {
   "cell_type": "code",
   "execution_count": null,
   "id": "aa0a76dc",
   "metadata": {
    "scrolled": true
   },
   "outputs": [],
   "source": [
    "from sklearn.preprocessing import LabelEncoder\n",
    "\n",
    "train_X, validation_X, train_Y, validation_Y = train_test_split(X, Y, random_state = 81)\n",
    "\n",
    "# create copies of our data sets to apply the transformations\n",
    "train_X_encoded = train_X.copy()\n",
    "validation_X_encoded = validation_X.copy()\n",
    "\n",
    "encoder_new = LabelEncoder()\n",
    "\n",
    "# for each column we fit the encoder and transform each of the rows\n",
    "for column in categorial_columns:\n",
    "    train_X_encoded[column] = encoder_new.fit_transform(train_X[column])\n",
    "    validation_X_encoded[column] = encoder_new.transform(validation_X[column])\n",
    "\n",
    "# a sample of our transformed data\n",
    "train_X_encoded.head()\n"
   ]
  },
  {
   "cell_type": "code",
   "execution_count": null,
   "id": "c38f11b7",
   "metadata": {},
   "outputs": [],
   "source": [
    "train_X_encoded.to_numpy()"
   ]
  },
  {
   "cell_type": "code",
   "execution_count": null,
   "id": "fd31da0a",
   "metadata": {},
   "outputs": [],
   "source": [
    "# compute the best tree size\n",
    "best_tree_size = get_best_tree_size(train_X_encoded, train_Y, validation_X_encoded, validation_Y)\n",
    "\n",
    "# create the model\n",
    "airbnb_model = DecisionTreeRegressor(max_leaf_nodes = best_tree_size, random_state = 81)\n",
    "airbnb_model.fit(train_X_encoded, train_Y)\n",
    "\n",
    "# generate the predictions for the validation set\n",
    "validation_predictions = airbnb_model.predict(validation_X_encoded)\n",
    "validation_prediction_errors = mean_absolute_error(validation_Y, validation_predictions)\n",
    "\n",
    "validation_prediction_errors"
   ]
  },
  {
   "cell_type": "code",
   "execution_count": null,
   "id": "ce699671",
   "metadata": {},
   "outputs": [],
   "source": [
    "# Creating a StandardScaler instance.\n",
    "scaler = StandardScaler()\n",
    "# Fitting the Standard Scaler with the training data.\n",
    "X_scaler = scaler.fit(train_X_encoded.values)\n",
    "\n",
    "# Scaling the data.\n",
    "X_train_scaled = X_scaler.transform(train_X_encoded.values)\n",
    "X_test_scaled = X_scaler.transform(validation_X_encoded.values)"
   ]
  },
  {
   "cell_type": "code",
   "execution_count": null,
   "id": "67fba487",
   "metadata": {},
   "outputs": [],
   "source": [
    "# Making predictions using the testing data.\n",
    "predictions = airbnb_model.predict(X_test_scaled)"
   ]
  }
 ],
 "metadata": {
  "kernelspec": {
   "display_name": "PythonData",
   "language": "python",
   "name": "pythondata"
  },
  "language_info": {
   "codemirror_mode": {
    "name": "ipython",
    "version": 3
   },
   "file_extension": ".py",
   "mimetype": "text/x-python",
   "name": "python",
   "nbconvert_exporter": "python",
   "pygments_lexer": "ipython3",
   "version": "3.9.12"
  }
 },
 "nbformat": 4,
 "nbformat_minor": 5
}
