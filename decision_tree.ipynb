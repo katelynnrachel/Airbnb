{
 "cells": [
  {
   "cell_type": "code",
   "execution_count": 1,
   "id": "b8c4a052",
   "metadata": {},
   "outputs": [],
   "source": [
    "# Import dependencies\n",
    "%matplotlib inline\n",
    "import matplotlib.pyplot as plt\n",
    "import numpy as np\n",
    "import pandas as pd\n",
    "import seaborn as sns\n",
    "\n",
    "# Initial imports\n",
    "from path import Path\n",
    "from sklearn import tree\n",
    "from sklearn.preprocessing import StandardScaler\n",
    "from sklearn.model_selection import train_test_split\n",
    "from sklearn.metrics import confusion_matrix, accuracy_score, classification_report\n",
    "from sklearn.tree import DecisionTreeRegressor\n",
    "from sklearn.preprocessing import scale\n",
    "from sklearn.datasets import load_boston\n",
    "from sklearn.datasets import make_regression\n",
    "from sklearn.metrics import mean_squared_error\n",
    "from sklearn import set_config "
   ]
  },
  {
   "cell_type": "code",
   "execution_count": 2,
   "id": "673d537f",
   "metadata": {
    "scrolled": false
   },
   "outputs": [
    {
     "data": {
      "text/html": [
       "<div>\n",
       "<style scoped>\n",
       "    .dataframe tbody tr th:only-of-type {\n",
       "        vertical-align: middle;\n",
       "    }\n",
       "\n",
       "    .dataframe tbody tr th {\n",
       "        vertical-align: top;\n",
       "    }\n",
       "\n",
       "    .dataframe thead th {\n",
       "        text-align: right;\n",
       "    }\n",
       "</style>\n",
       "<table border=\"1\" class=\"dataframe\">\n",
       "  <thead>\n",
       "    <tr style=\"text-align: right;\">\n",
       "      <th></th>\n",
       "      <th>id</th>\n",
       "      <th>listing_url</th>\n",
       "      <th>scrape_id</th>\n",
       "      <th>last_scraped</th>\n",
       "      <th>source</th>\n",
       "      <th>name</th>\n",
       "      <th>description</th>\n",
       "      <th>neighborhood_overview</th>\n",
       "      <th>picture_url</th>\n",
       "      <th>host_id</th>\n",
       "      <th>...</th>\n",
       "      <th>review_scores_communication</th>\n",
       "      <th>review_scores_location</th>\n",
       "      <th>review_scores_value</th>\n",
       "      <th>license</th>\n",
       "      <th>instant_bookable</th>\n",
       "      <th>calculated_host_listings_count</th>\n",
       "      <th>calculated_host_listings_count_entire_homes</th>\n",
       "      <th>calculated_host_listings_count_private_rooms</th>\n",
       "      <th>calculated_host_listings_count_shared_rooms</th>\n",
       "      <th>reviews_per_month</th>\n",
       "    </tr>\n",
       "  </thead>\n",
       "  <tbody>\n",
       "    <tr>\n",
       "      <th>0</th>\n",
       "      <td>183319</td>\n",
       "      <td>https://www.airbnb.com/rooms/183319</td>\n",
       "      <td>20220909140055</td>\n",
       "      <td>2022-09-10</td>\n",
       "      <td>previous scrape</td>\n",
       "      <td>Panoramic Ocean View Venice Beach</td>\n",
       "      <td>Craftsmen style penthouse with ocean view from...</td>\n",
       "      <td>About as close to the beach as you can live in...</td>\n",
       "      <td>https://a0.muscache.com/pictures/1170205/e2596...</td>\n",
       "      <td>867995</td>\n",
       "      <td>...</td>\n",
       "      <td>5.00</td>\n",
       "      <td>5.00</td>\n",
       "      <td>5.00</td>\n",
       "      <td>NaN</td>\n",
       "      <td>f</td>\n",
       "      <td>2</td>\n",
       "      <td>2</td>\n",
       "      <td>0</td>\n",
       "      <td>0</td>\n",
       "      <td>0.02</td>\n",
       "    </tr>\n",
       "    <tr>\n",
       "      <th>1</th>\n",
       "      <td>51307</td>\n",
       "      <td>https://www.airbnb.com/rooms/51307</td>\n",
       "      <td>20220909140055</td>\n",
       "      <td>2022-09-10</td>\n",
       "      <td>city scrape</td>\n",
       "      <td>Spanish Bungalow Guest House LA CA. 30 plus ni...</td>\n",
       "      <td>PRIVATE GUEST HOUSE&lt;br /&gt;&lt;br /&gt;&lt;b&gt;The space&lt;/b...</td>\n",
       "      <td>Local LA  Community , shops and restaurants in...</td>\n",
       "      <td>https://a0.muscache.com/pictures/294658/ac8d6e...</td>\n",
       "      <td>235568</td>\n",
       "      <td>...</td>\n",
       "      <td>4.85</td>\n",
       "      <td>4.95</td>\n",
       "      <td>4.76</td>\n",
       "      <td>NaN</td>\n",
       "      <td>f</td>\n",
       "      <td>2</td>\n",
       "      <td>2</td>\n",
       "      <td>0</td>\n",
       "      <td>0</td>\n",
       "      <td>0.98</td>\n",
       "    </tr>\n",
       "    <tr>\n",
       "      <th>2</th>\n",
       "      <td>184314</td>\n",
       "      <td>https://www.airbnb.com/rooms/184314</td>\n",
       "      <td>20220909140055</td>\n",
       "      <td>2022-09-10</td>\n",
       "      <td>previous scrape</td>\n",
       "      <td>Boho Chic Flat..Steps to Beach!</td>\n",
       "      <td>Bright, airy, quiet 1 bdr located just steps f...</td>\n",
       "      <td>You are in one of the beach locations in Los A...</td>\n",
       "      <td>https://a0.muscache.com/pictures/0bc2f8b7-9378...</td>\n",
       "      <td>884031</td>\n",
       "      <td>...</td>\n",
       "      <td>4.93</td>\n",
       "      <td>4.89</td>\n",
       "      <td>4.85</td>\n",
       "      <td>NaN</td>\n",
       "      <td>t</td>\n",
       "      <td>1</td>\n",
       "      <td>1</td>\n",
       "      <td>0</td>\n",
       "      <td>0</td>\n",
       "      <td>0.22</td>\n",
       "    </tr>\n",
       "  </tbody>\n",
       "</table>\n",
       "<p>3 rows × 75 columns</p>\n",
       "</div>"
      ],
      "text/plain": [
       "       id                          listing_url       scrape_id last_scraped  \\\n",
       "0  183319  https://www.airbnb.com/rooms/183319  20220909140055   2022-09-10   \n",
       "1   51307   https://www.airbnb.com/rooms/51307  20220909140055   2022-09-10   \n",
       "2  184314  https://www.airbnb.com/rooms/184314  20220909140055   2022-09-10   \n",
       "\n",
       "            source                                               name  \\\n",
       "0  previous scrape                  Panoramic Ocean View Venice Beach   \n",
       "1      city scrape  Spanish Bungalow Guest House LA CA. 30 plus ni...   \n",
       "2  previous scrape                    Boho Chic Flat..Steps to Beach!   \n",
       "\n",
       "                                         description  \\\n",
       "0  Craftsmen style penthouse with ocean view from...   \n",
       "1  PRIVATE GUEST HOUSE<br /><br /><b>The space</b...   \n",
       "2  Bright, airy, quiet 1 bdr located just steps f...   \n",
       "\n",
       "                               neighborhood_overview  \\\n",
       "0  About as close to the beach as you can live in...   \n",
       "1  Local LA  Community , shops and restaurants in...   \n",
       "2  You are in one of the beach locations in Los A...   \n",
       "\n",
       "                                         picture_url  host_id  ...  \\\n",
       "0  https://a0.muscache.com/pictures/1170205/e2596...   867995  ...   \n",
       "1  https://a0.muscache.com/pictures/294658/ac8d6e...   235568  ...   \n",
       "2  https://a0.muscache.com/pictures/0bc2f8b7-9378...   884031  ...   \n",
       "\n",
       "  review_scores_communication review_scores_location review_scores_value  \\\n",
       "0                        5.00                   5.00                5.00   \n",
       "1                        4.85                   4.95                4.76   \n",
       "2                        4.93                   4.89                4.85   \n",
       "\n",
       "  license instant_bookable calculated_host_listings_count  \\\n",
       "0     NaN                f                              2   \n",
       "1     NaN                f                              2   \n",
       "2     NaN                t                              1   \n",
       "\n",
       "  calculated_host_listings_count_entire_homes  \\\n",
       "0                                           2   \n",
       "1                                           2   \n",
       "2                                           1   \n",
       "\n",
       "  calculated_host_listings_count_private_rooms  \\\n",
       "0                                            0   \n",
       "1                                            0   \n",
       "2                                            0   \n",
       "\n",
       "  calculated_host_listings_count_shared_rooms reviews_per_month  \n",
       "0                                           0              0.02  \n",
       "1                                           0              0.98  \n",
       "2                                           0              0.22  \n",
       "\n",
       "[3 rows x 75 columns]"
      ]
     },
     "execution_count": 2,
     "metadata": {},
     "output_type": "execute_result"
    }
   ],
   "source": [
    "df = pd.read_csv(\"listings.csv\")\n",
    "df.head(3)"
   ]
  },
  {
   "cell_type": "code",
   "execution_count": 3,
   "id": "f14c010f",
   "metadata": {},
   "outputs": [],
   "source": [
    "# Extract prices from df into priceDF\n",
    "priceDF = df['price']\n",
    "prices=[]\n",
    "\n",
    "# Convert prices from df into float values + append \n",
    "for p in priceDF:\n",
    "    p = float(p[1:].replace(',',''))\n",
    "    prices.append(p)\n",
    "    \n",
    "# Replace the price column in the original df with the new prices\n",
    "df['price'] = prices"
   ]
  },
  {
   "cell_type": "code",
   "execution_count": 4,
   "id": "01a13ee8",
   "metadata": {},
   "outputs": [],
   "source": [
    "#Convert NaN to 0\n",
    "df.fillna(0, inplace=True)"
   ]
  },
  {
   "cell_type": "code",
   "execution_count": 5,
   "id": "23e3f201",
   "metadata": {
    "scrolled": true
   },
   "outputs": [
    {
     "data": {
      "text/html": [
       "<div>\n",
       "<style scoped>\n",
       "    .dataframe tbody tr th:only-of-type {\n",
       "        vertical-align: middle;\n",
       "    }\n",
       "\n",
       "    .dataframe tbody tr th {\n",
       "        vertical-align: top;\n",
       "    }\n",
       "\n",
       "    .dataframe thead th {\n",
       "        text-align: right;\n",
       "    }\n",
       "</style>\n",
       "<table border=\"1\" class=\"dataframe\">\n",
       "  <thead>\n",
       "    <tr style=\"text-align: right;\">\n",
       "      <th></th>\n",
       "      <th>latitude</th>\n",
       "      <th>longitude</th>\n",
       "      <th>accommodates</th>\n",
       "      <th>bedrooms</th>\n",
       "      <th>beds</th>\n",
       "      <th>minimum_nights</th>\n",
       "      <th>maximum_nights</th>\n",
       "      <th>number_of_reviews</th>\n",
       "      <th>review_scores_rating</th>\n",
       "    </tr>\n",
       "  </thead>\n",
       "  <tbody>\n",
       "    <tr>\n",
       "      <th>0</th>\n",
       "      <td>33.99211</td>\n",
       "      <td>-118.47600</td>\n",
       "      <td>2</td>\n",
       "      <td>2.0</td>\n",
       "      <td>2.0</td>\n",
       "      <td>30</td>\n",
       "      <td>90</td>\n",
       "      <td>3</td>\n",
       "      <td>5.00</td>\n",
       "    </tr>\n",
       "    <tr>\n",
       "      <th>1</th>\n",
       "      <td>34.12206</td>\n",
       "      <td>-118.26783</td>\n",
       "      <td>2</td>\n",
       "      <td>1.0</td>\n",
       "      <td>1.0</td>\n",
       "      <td>30</td>\n",
       "      <td>365</td>\n",
       "      <td>138</td>\n",
       "      <td>4.64</td>\n",
       "    </tr>\n",
       "    <tr>\n",
       "      <th>2</th>\n",
       "      <td>33.97487</td>\n",
       "      <td>-118.46312</td>\n",
       "      <td>1</td>\n",
       "      <td>1.0</td>\n",
       "      <td>1.0</td>\n",
       "      <td>30</td>\n",
       "      <td>30</td>\n",
       "      <td>30</td>\n",
       "      <td>4.88</td>\n",
       "    </tr>\n",
       "    <tr>\n",
       "      <th>3</th>\n",
       "      <td>34.00389</td>\n",
       "      <td>-118.44126</td>\n",
       "      <td>2</td>\n",
       "      <td>0.0</td>\n",
       "      <td>1.0</td>\n",
       "      <td>3</td>\n",
       "      <td>365</td>\n",
       "      <td>378</td>\n",
       "      <td>4.73</td>\n",
       "    </tr>\n",
       "    <tr>\n",
       "      <th>4</th>\n",
       "      <td>33.98301</td>\n",
       "      <td>-118.38607</td>\n",
       "      <td>6</td>\n",
       "      <td>2.0</td>\n",
       "      <td>3.0</td>\n",
       "      <td>30</td>\n",
       "      <td>730</td>\n",
       "      <td>2</td>\n",
       "      <td>4.00</td>\n",
       "    </tr>\n",
       "  </tbody>\n",
       "</table>\n",
       "</div>"
      ],
      "text/plain": [
       "   latitude  longitude  accommodates  bedrooms  beds  minimum_nights  \\\n",
       "0  33.99211 -118.47600             2       2.0   2.0              30   \n",
       "1  34.12206 -118.26783             2       1.0   1.0              30   \n",
       "2  33.97487 -118.46312             1       1.0   1.0              30   \n",
       "3  34.00389 -118.44126             2       0.0   1.0               3   \n",
       "4  33.98301 -118.38607             6       2.0   3.0              30   \n",
       "\n",
       "   maximum_nights  number_of_reviews  review_scores_rating  \n",
       "0              90                  3                  5.00  \n",
       "1             365                138                  4.64  \n",
       "2              30                 30                  4.88  \n",
       "3             365                378                  4.73  \n",
       "4             730                  2                  4.00  "
      ]
     },
     "execution_count": 5,
     "metadata": {},
     "output_type": "execute_result"
    }
   ],
   "source": [
    "# separating dataset\n",
    "airbnb_features = [\"latitude\", \"longitude\", \"accommodates\", \"bedrooms\", \"beds\", \"minimum_nights\", \"maximum_nights\", \"number_of_reviews\", \"review_scores_rating\", ]\n",
    "\n",
    "\n",
    "y = df.price \n",
    "X = df[airbnb_features]\n",
    "\n",
    "X.head()"
   ]
  },
  {
   "cell_type": "code",
   "execution_count": 6,
   "id": "e323eefb",
   "metadata": {
    "scrolled": true
   },
   "outputs": [
    {
     "data": {
      "text/plain": [
       "0    152.0\n",
       "1     75.0\n",
       "2    125.0\n",
       "3    189.0\n",
       "4    115.0\n",
       "Name: price, dtype: float64"
      ]
     },
     "execution_count": 6,
     "metadata": {},
     "output_type": "execute_result"
    }
   ],
   "source": [
    "y.head()"
   ]
  },
  {
   "cell_type": "code",
   "execution_count": 7,
   "id": "ef55117d",
   "metadata": {},
   "outputs": [],
   "source": [
    "X_train, X_test, y_train, y_test = train_test_split(X, y, test_size = 0.05, random_state=78)"
   ]
  },
  {
   "cell_type": "code",
   "execution_count": 8,
   "id": "0e271e19",
   "metadata": {},
   "outputs": [
    {
     "name": "stdout",
     "output_type": "stream",
     "text": [
      "(43524, 9)\n",
      "(2291, 9)\n",
      "(43524,)\n",
      "(2291,)\n"
     ]
    }
   ],
   "source": [
    "# Determine the shape of our training and testing sets.\n",
    "print(X_train.shape)\n",
    "print(X_test.shape)\n",
    "print(y_train.shape)\n",
    "print(y_test.shape)"
   ]
  },
  {
   "cell_type": "code",
   "execution_count": 9,
   "id": "dd4fbc24",
   "metadata": {},
   "outputs": [
    {
     "name": "stdout",
     "output_type": "stream",
     "text": [
      "DecisionTreeRegressor(ccp_alpha=0.0, criterion='squared_error', max_depth=None,\n",
      "                      max_features=None, max_leaf_nodes=None,\n",
      "                      min_impurity_decrease=0.0, min_samples_leaf=1,\n",
      "                      min_samples_split=2, min_weight_fraction_leaf=0.0,\n",
      "                      random_state=None, splitter='best')\n"
     ]
    }
   ],
   "source": [
    "set_config(print_changed_only=False) \n",
    " \n",
    "dtr = DecisionTreeRegressor()\n",
    "print(dtr)"
   ]
  },
  {
   "cell_type": "code",
   "execution_count": 10,
   "id": "4d8f59e1",
   "metadata": {},
   "outputs": [
    {
     "name": "stdout",
     "output_type": "stream",
     "text": [
      "R-squared: 0.9999971878944586\n"
     ]
    }
   ],
   "source": [
    "dtr.fit(X_train, y_train)\n",
    "\n",
    "score = dtr.score(X_train, y_train)\n",
    "print(\"R-squared:\", score) "
   ]
  },
  {
   "cell_type": "code",
   "execution_count": 11,
   "id": "f399f058",
   "metadata": {},
   "outputs": [
    {
     "name": "stdout",
     "output_type": "stream",
     "text": [
      "MSE:  560888.6929195159\n",
      "RMSE:  748.9250248986983\n"
     ]
    }
   ],
   "source": [
    "ypred = dtr.predict(X_test)\n",
    "\n",
    "mse = mean_squared_error(y_test, ypred)\n",
    "print(\"MSE: \", mse)\n",
    "print(\"RMSE: \", mse**(1/2.0)) "
   ]
  },
  {
   "cell_type": "code",
   "execution_count": 15,
   "id": "5592a45f",
   "metadata": {},
   "outputs": [
    {
     "data": {
      "image/png": "[encoded data removed]",
      "text/plain": [
       "<Figure size 640x480 with 1 Axes>"
      ]
     },
     "metadata": {},
     "output_type": "display_data"
    }
   ],
   "source": [
    "x_ax = range(len(y_test))\n",
    "plt.plot(x_ax, y_test, linewidth=1, label=\"original\")\n",
    "plt.plot(x_ax, ypred, linewidth=1.1, label=\"predicted\")\n",
    "plt.title(\"y-test and y-predicted data\")\n",
    "plt.xlabel('X-axis')\n",
    "plt.ylabel('Y-axis')\n",
    "plt.legend(loc='best',fancybox=True, shadow=True)\n",
    "plt.grid(True)\n",
    "plt.show() "
   ]
  },
  {
   "cell_type": "code",
   "execution_count": 12,
   "id": "cf410d7c",
   "metadata": {},
   "outputs": [],
   "source": [
    "# Creating a StandardScaler instance.\n",
    "scaler = StandardScaler()\n",
    "# Fitting the Standard Scaler with the training data.\n",
    "X_scaler = scaler.fit(X_train)\n",
    "\n",
    "# Scaling the data.\n",
    "X_train_scaled = X_scaler.transform(X_train)\n",
    "X_test_scaled = X_scaler.transform(X_test)"
   ]
  },
  {
   "cell_type": "code",
   "execution_count": 13,
   "id": "614bbe88",
   "metadata": {},
   "outputs": [],
   "source": [
    "# Creating the decision tree classifier instance.\n",
    "model = tree.DecisionTreeRegressor()\n",
    "# Fitting the model.\n",
    "model = model.fit(X_train_scaled, y_train)"
   ]
  },
  {
   "cell_type": "code",
   "execution_count": 14,
   "id": "7a06956d",
   "metadata": {},
   "outputs": [
    {
     "data": {
      "text/plain": [
       "array([ 79., 352., 327., ...,  65., 620., 152.])"
      ]
     },
     "execution_count": 14,
     "metadata": {},
     "output_type": "execute_result"
    }
   ],
   "source": [
    "# Making predictions using the testing data.\n",
    "predictions = model.predict(X_test_scaled)\n",
    "predictions"
   ]
  },
  {
   "cell_type": "code",
   "execution_count": null,
   "id": "6908a031",
   "metadata": {},
   "outputs": [],
   "source": []
  }
 ],
 "metadata": {
  "kernelspec": {
   "display_name": "PythonData",
   "language": "python",
   "name": "pythondata"
  },
  "language_info": {
   "codemirror_mode": {
    "name": "ipython",
    "version": 3
   },
   "file_extension": ".py",
   "mimetype": "text/x-python",
   "name": "python",
   "nbconvert_exporter": "python",
   "pygments_lexer": "ipython3",
   "version": "3.9.12"
  }
 },
 "nbformat": 4,
 "nbformat_minor": 5
}
